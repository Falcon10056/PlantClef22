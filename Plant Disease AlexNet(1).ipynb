{
 "cells": [
  {
   "cell_type": "code",
   "execution_count": 1,
   "id": "354460e5",
   "metadata": {},
   "outputs": [],
   "source": [
    "import numpy as np\n",
    "import tensorflow as tf\n",
    "from keras.models import Sequential\n",
    "from keras import layers\n",
    "from keras.layers import Input, Dense, Activation,BatchNormalization, Flatten, Convolution2D, MaxPooling2D, Dropout\n",
    "from keras.models import Model\n",
    "from keras.preprocessing import image\n",
    "from keras.preprocessing.image import ImageDataGenerator\n",
    "import keras.backend as K\n",
    "K.set_image_data_format('channels_last')\n",
    "import matplotlib.pyplot as plt\n",
    "from matplotlib.pyplot import imshow\n",
    "import os\n",
    "import h5py"
   ]
  },
  {
   "cell_type": "code",
   "execution_count": 2,
   "id": "c9b526ff",
   "metadata": {},
   "outputs": [
    {
     "name": "stdout",
     "output_type": "stream",
     "text": [
      "Found 5060 images belonging to 135 classes.\n",
      "Found 1199 images belonging to 135 classes.\n"
     ]
    }
   ],
   "source": [
    "path = r\"C:\\Users\\GUITA\\Desktop\\Stuff\\Projects\\Plant CLEF\\alexnet\\dataset\\seg_train\\seg_train\"\n",
    "datagen = ImageDataGenerator(validation_split=0.2, rescale=1. / 255)\n",
    "train = datagen.flow_from_directory(path, subset='training', target_size=(227,227), class_mode='categorical')\n",
    "test = datagen.flow_from_directory(path, subset='validation', target_size=(227,227), class_mode='categorical')"
   ]
  },
  {
   "cell_type": "code",
   "execution_count": 16,
   "id": "f85a8992",
   "metadata": {},
   "outputs": [],
   "source": [
    "classifier = Sequential()\n",
    "\n",
    "# Convolution Step 1\n",
    "classifier.add(Convolution2D(96, 11, strides = (4, 4), padding = 'valid', input_shape=(224, 224, 3), activation = 'relu'))\n",
    "\n",
    "# Max Pooling Step 1\n",
    "classifier.add(MaxPooling2D(pool_size = (2, 2), strides = (2, 2), padding = 'valid'))\n",
    "classifier.add(BatchNormalization())\n",
    "\n",
    "# Convolution Step 2\n",
    "classifier.add(Convolution2D(256, 11, strides = (1, 1), padding='valid', activation = 'relu'))\n",
    "\n",
    "# Max Pooling Step 2\n",
    "classifier.add(MaxPooling2D(pool_size = (2, 2), strides = (2, 2), padding='valid'))\n",
    "classifier.add(BatchNormalization())\n",
    "\n",
    "# Convolution Step 3\n",
    "classifier.add(Convolution2D(384, 3, strides = (1, 1), padding='valid', activation = 'relu'))\n",
    "classifier.add(BatchNormalization())\n",
    "\n",
    "# Convolution Step 4\n",
    "classifier.add(Convolution2D(384, 3, strides = (1, 1), padding='valid', activation = 'relu'))\n",
    "classifier.add(BatchNormalization())\n",
    "\n",
    "# Convolution Step 5\n",
    "classifier.add(Convolution2D(256, 3, strides=(1,1), padding='valid', activation = 'relu'))\n",
    "\n",
    "# Max Pooling Step 3\n",
    "classifier.add(MaxPooling2D(pool_size = (2, 2), strides = (2, 2), padding = 'valid'))\n",
    "classifier.add(BatchNormalization())\n",
    "\n",
    "# Flattening Step\n",
    "classifier.add(Flatten())\n",
    "\n",
    "# Full Connection Step\n",
    "classifier.add(Dense(units = 4096, activation = 'relu'))\n",
    "#classifier.add(Dropout(0.4))\n",
    "classifier.add(BatchNormalization())\n",
    "classifier.add(Dense(units = 4096, activation = 'relu'))\n",
    "#classifier.add(Dropout(0.4))\n",
    "classifier.add(BatchNormalization())\n",
    "classifier.add(Dense(units = 1000, activation = 'relu'))\n",
    "#classifier.add(Dropout(0.2))\n",
    "classifier.add(BatchNormalization())\n",
    "classifier.add(Dense(units = 38, activation = 'softmax'))\n"
   ]
  },
  {
   "cell_type": "code",
   "execution_count": 17,
   "id": "4382ba8b",
   "metadata": {},
   "outputs": [],
   "source": [
    "classifier.load_weights(r\"C:\\Users\\GUITA\\Desktop\\Stuff\\Projects\\Plant CLEF\\alexnet\\AlexNetModel.hdf5\")"
   ]
  },
  {
   "cell_type": "code",
   "execution_count": 18,
   "id": "c0c03e1b",
   "metadata": {},
   "outputs": [],
   "source": [
    "classifier = Model(inputs=classifier.input, outputs=classifier.layers[-2].output)"
   ]
  },
  {
   "cell_type": "code",
   "execution_count": 19,
   "id": "4bfaa15f",
   "metadata": {},
   "outputs": [
    {
     "name": "stdout",
     "output_type": "stream",
     "text": [
      "Model: \"model_1\"\n",
      "_________________________________________________________________\n",
      " Layer (type)                Output Shape              Param #   \n",
      "=================================================================\n",
      " conv2d_5_input (InputLayer)  [(None, 224, 224, 3)]    0         \n",
      "                                                                 \n",
      " conv2d_5 (Conv2D)           (None, 54, 54, 96)        34944     \n",
      "                                                                 \n",
      " max_pooling2d_3 (MaxPooling  (None, 27, 27, 96)       0         \n",
      " 2D)                                                             \n",
      "                                                                 \n",
      " batch_normalization_8 (Batc  (None, 27, 27, 96)       384       \n",
      " hNormalization)                                                 \n",
      "                                                                 \n",
      " conv2d_6 (Conv2D)           (None, 17, 17, 256)       2973952   \n",
      "                                                                 \n",
      " max_pooling2d_4 (MaxPooling  (None, 8, 8, 256)        0         \n",
      " 2D)                                                             \n",
      "                                                                 \n",
      " batch_normalization_9 (Batc  (None, 8, 8, 256)        1024      \n",
      " hNormalization)                                                 \n",
      "                                                                 \n",
      " conv2d_7 (Conv2D)           (None, 6, 6, 384)         885120    \n",
      "                                                                 \n",
      " batch_normalization_10 (Bat  (None, 6, 6, 384)        1536      \n",
      " chNormalization)                                                \n",
      "                                                                 \n",
      " conv2d_8 (Conv2D)           (None, 4, 4, 384)         1327488   \n",
      "                                                                 \n",
      " batch_normalization_11 (Bat  (None, 4, 4, 384)        1536      \n",
      " chNormalization)                                                \n",
      "                                                                 \n",
      " conv2d_9 (Conv2D)           (None, 2, 2, 256)         884992    \n",
      "                                                                 \n",
      " max_pooling2d_5 (MaxPooling  (None, 1, 1, 256)        0         \n",
      " 2D)                                                             \n",
      "                                                                 \n",
      " batch_normalization_12 (Bat  (None, 1, 1, 256)        1024      \n",
      " chNormalization)                                                \n",
      "                                                                 \n",
      " flatten_1 (Flatten)         (None, 256)               0         \n",
      "                                                                 \n",
      " dense_5 (Dense)             (None, 4096)              1052672   \n",
      "                                                                 \n",
      " batch_normalization_13 (Bat  (None, 4096)             16384     \n",
      " chNormalization)                                                \n",
      "                                                                 \n",
      " dense_6 (Dense)             (None, 4096)              16781312  \n",
      "                                                                 \n",
      " batch_normalization_14 (Bat  (None, 4096)             16384     \n",
      " chNormalization)                                                \n",
      "                                                                 \n",
      " dense_7 (Dense)             (None, 1000)              4097000   \n",
      "                                                                 \n",
      " batch_normalization_15 (Bat  (None, 1000)             4000      \n",
      " chNormalization)                                                \n",
      "                                                                 \n",
      "=================================================================\n",
      "Total params: 28,079,752\n",
      "Trainable params: 28,058,616\n",
      "Non-trainable params: 21,136\n",
      "_________________________________________________________________\n"
     ]
    }
   ],
   "source": [
    "classifier.summary()"
   ]
  },
  {
   "cell_type": "code",
   "execution_count": 20,
   "id": "8ec7278f",
   "metadata": {},
   "outputs": [],
   "source": [
    "model=Sequential()"
   ]
  },
  {
   "cell_type": "code",
   "execution_count": 21,
   "id": "bd71d154",
   "metadata": {},
   "outputs": [],
   "source": [
    "model.add(classifier)"
   ]
  },
  {
   "cell_type": "code",
   "execution_count": 22,
   "id": "e5ea44d6",
   "metadata": {},
   "outputs": [],
   "source": [
    "model.add(Dense(units = 135, activation = 'softmax'))"
   ]
  },
  {
   "cell_type": "code",
   "execution_count": 23,
   "id": "6865c26e",
   "metadata": {},
   "outputs": [
    {
     "name": "stdout",
     "output_type": "stream",
     "text": [
      "Model: \"sequential_3\"\n",
      "_________________________________________________________________\n",
      " Layer (type)                Output Shape              Param #   \n",
      "=================================================================\n",
      " model_1 (Functional)        (None, 1000)              28079752  \n",
      "                                                                 \n",
      " dense_9 (Dense)             (None, 135)               135135    \n",
      "                                                                 \n",
      "=================================================================\n",
      "Total params: 28,214,887\n",
      "Trainable params: 28,193,751\n",
      "Non-trainable params: 21,136\n",
      "_________________________________________________________________\n"
     ]
    }
   ],
   "source": [
    "model.summary()"
   ]
  },
  {
   "cell_type": "code",
   "execution_count": 24,
   "id": "4f3b1869",
   "metadata": {},
   "outputs": [],
   "source": [
    "#opt = tf.optimizers.Adagrad(learning_rate=0.00495, epsilon=None, decay=0.0)\n",
    "model.compile(optimizer = 'SGD' , loss = tf.keras.losses.KLDivergence() , metrics=['accuracy'])"
   ]
  },
  {
   "cell_type": "code",
   "execution_count": null,
   "id": "28e34771",
   "metadata": {},
   "outputs": [
    {
     "name": "stdout",
     "output_type": "stream",
     "text": [
      "Epoch 1/20\n",
      "159/159 [==============================] - 169s 1s/step - loss: 4.4769 - accuracy: 0.1079\n",
      "Epoch 2/20\n",
      "159/159 [==============================] - 134s 841ms/step - loss: 3.4815 - accuracy: 0.2051\n",
      "Epoch 3/20\n",
      "159/159 [==============================] - 136s 853ms/step - loss: 3.0271 - accuracy: 0.2731\n",
      "Epoch 4/20\n",
      "159/159 [==============================] - 138s 869ms/step - loss: 2.6921 - accuracy: 0.3265\n",
      "Epoch 5/20\n",
      "159/159 [==============================] - 159s 1s/step - loss: 2.3893 - accuracy: 0.3911\n",
      "Epoch 6/20\n",
      "159/159 [==============================] - 160s 1s/step - loss: 2.0659 - accuracy: 0.4623\n",
      "Epoch 7/20\n",
      "159/159 [==============================] - 164s 1s/step - loss: 1.7488 - accuracy: 0.5462\n",
      "Epoch 8/20\n",
      "159/159 [==============================] - 164s 1s/step - loss: 1.6768 - accuracy: 0.5561\n",
      "Epoch 9/20\n",
      "159/159 [==============================] - 139s 873ms/step - loss: 1.5033 - accuracy: 0.6030\n",
      "Epoch 10/20\n",
      "159/159 [==============================] - 140s 879ms/step - loss: 1.1320 - accuracy: 0.7071\n",
      "Epoch 11/20\n",
      "159/159 [==============================] - 144s 905ms/step - loss: 0.9462 - accuracy: 0.7617\n",
      "Epoch 12/20\n",
      "159/159 [==============================] - 155s 976ms/step - loss: 0.8300 - accuracy: 0.7960\n",
      "Epoch 13/20\n",
      "159/159 [==============================] - 152s 959ms/step - loss: 0.7652 - accuracy: 0.8158\n",
      "Epoch 14/20\n",
      "159/159 [==============================] - 160s 1s/step - loss: 0.6005 - accuracy: 0.8587\n",
      "Epoch 15/20\n",
      "159/159 [==============================] - 164s 1s/step - loss: 0.4458 - accuracy: 0.9085\n",
      "Epoch 16/20\n",
      "159/159 [==============================] - 166s 1s/step - loss: 0.4361 - accuracy: 0.9049\n",
      "Epoch 17/20\n",
      "159/159 [==============================] - 163s 1s/step - loss: 0.4802 - accuracy: 0.8895\n",
      "Epoch 18/20\n",
      "159/159 [==============================] - 162s 1s/step - loss: 0.3422 - accuracy: 0.9275\n",
      "Epoch 19/20\n",
      "111/159 [===================>..........] - ETA: 47s - loss: 0.2633 - accuracy: 0.9529"
     ]
    }
   ],
   "source": [
    "model.fit(train,epochs=20)"
   ]
  },
  {
   "cell_type": "code",
   "execution_count": 14,
   "id": "4a94b898",
   "metadata": {},
   "outputs": [
    {
     "name": "stdout",
     "output_type": "stream",
     "text": [
      "38/38 [==============================] - 11s 274ms/step - loss: 3.2849 - accuracy: 0.2777\n",
      "Loss = 3.2848544120788574\n",
      "Test Accuracy = 0.27773144841194153\n"
     ]
    }
   ],
   "source": [
    "preds=model.evaluate(test) \n",
    "print(\"Loss = \" + str(preds[0])) \n",
    "print(\"Test Accuracy = \" + str(preds[1]))"
   ]
  }
 ],
 "metadata": {
  "kernelspec": {
   "display_name": "Python 3",
   "language": "python",
   "name": "python3"
  },
  "language_info": {
   "codemirror_mode": {
    "name": "ipython",
    "version": 3
   },
   "file_extension": ".py",
   "mimetype": "text/x-python",
   "name": "python",
   "nbconvert_exporter": "python",
   "pygments_lexer": "ipython3",
   "version": "3.9.12"
  }
 },
 "nbformat": 4,
 "nbformat_minor": 5
}
