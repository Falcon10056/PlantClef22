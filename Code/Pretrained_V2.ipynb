{
 "cells": [
  {
   "cell_type": "code",
   "execution_count": 17,
   "id": "0d08f3bf",
   "metadata": {},
   "outputs": [],
   "source": [
    "import keras\n",
    "import numpy as np\n",
    "import os\n",
    "import tensorflow as tf\n",
    "from keras.preprocessing import image\n",
    "from keras.preprocessing.image import ImageDataGenerator\n",
    "from keras.models import Sequential\n",
    "from keras.layers import Conv2D, MaxPooling2D, Flatten, Dense, ZeroPadding2D, Dropout, BatchNormalization"
   ]
  },
  {
   "cell_type": "code",
   "execution_count": 18,
   "id": "e51da643",
   "metadata": {},
   "outputs": [
    {
     "name": "stdout",
     "output_type": "stream",
     "text": [
      "Found 5060 images belonging to 135 classes.\n",
      "Found 1199 images belonging to 135 classes.\n"
     ]
    }
   ],
   "source": [
    "path = r\"C:\\Users\\GUITA\\Desktop\\Stuff\\Projects\\Plant CLEF\\alexnet\\dataset\\seg_train\\seg_train\"\n",
    "datagen = ImageDataGenerator(validation_split=0.2, rescale=1. / 255)\n",
    "train = datagen.flow_from_directory(path, subset='training', target_size=(227,227), class_mode='categorical')\n",
    "test = datagen.flow_from_directory(path, subset='validation', target_size=(227,227), class_mode='categorical')"
   ]
  },
  {
   "cell_type": "code",
   "execution_count": 23,
   "id": "4583c004",
   "metadata": {},
   "outputs": [],
   "source": [
    "def AlexNet(CLASSES, IMAGE_SIZE, CHANNELS):\n",
    "    # Initialising the CNN\n",
    "    classifier = Sequential()\n",
    "\n",
    "    # First Convolution Block\n",
    "    classifier.add(Conv2D(96, 11, strides=(4, 4), input_shape=(IMAGE_SIZE, IMAGE_SIZE, CHANNELS), activation='relu'))\n",
    "    classifier.add(MaxPooling2D(pool_size=(3, 3), strides=2))\n",
    "    classifier.add(BatchNormalization())\n",
    "\n",
    "    # Second Convolution Block\n",
    "    classifier.add(Conv2D(256, 5, strides=(1, 1), activation='relu', padding='same'))\n",
    "    classifier.add(MaxPooling2D(pool_size=(3, 3), strides=2))\n",
    "    classifier.add(BatchNormalization())\n",
    "\n",
    "    # Third Convolution Block\n",
    "    classifier.add(Conv2D(384, 3, strides=(1, 1), activation='relu', padding='same'))\n",
    "    classifier.add(MaxPooling2D(pool_size=(3, 3), strides=2))\n",
    "\n",
    "    # Fourth Convolution Block\n",
    "    classifier.add(Conv2D(384, 3, strides=(1, 1), activation='relu', padding='same'))\n",
    "\n",
    "    # Fifth Convolution Block\n",
    "    classifier.add(Conv2D(256, 3, strides=(1, 1), activation='relu', padding='same'))\n",
    "    classifier.add(Dropout(0.0))\n",
    "\n",
    "    # Fully connected layer\n",
    "    classifier.add(Flatten())\n",
    "\n",
    "    # First hidden unit\n",
    "    classifier.add(Dense(512, activation='relu', kernel_initializer='uniform'))\n",
    "    classifier.add(Dropout(0.0))\n",
    "\n",
    "    # Second hidden unit\n",
    "    classifier.add(Dense(512, activation='relu', kernel_initializer='uniform'))\n",
    "    classifier.add(Dropout(0.0))\n",
    "\n",
    "    # Output layer\n",
    "    classifier.add(Dense(CLASSES, activation='softmax', kernel_initializer='uniform'))\n",
    "\n",
    "    classifier.summary()\n",
    "    return classifier\n"
   ]
  },
  {
   "cell_type": "code",
   "execution_count": 24,
   "id": "318368a3",
   "metadata": {},
   "outputs": [
    {
     "name": "stdout",
     "output_type": "stream",
     "text": [
      "Model: \"sequential_2\"\n",
      "_________________________________________________________________\n",
      " Layer (type)                Output Shape              Param #   \n",
      "=================================================================\n",
      " conv2d_10 (Conv2D)          (None, 55, 55, 96)        34944     \n",
      "                                                                 \n",
      " max_pooling2d_6 (MaxPooling  (None, 27, 27, 96)       0         \n",
      " 2D)                                                             \n",
      "                                                                 \n",
      " batch_normalization_4 (Batc  (None, 27, 27, 96)       384       \n",
      " hNormalization)                                                 \n",
      "                                                                 \n",
      " conv2d_11 (Conv2D)          (None, 27, 27, 256)       614656    \n",
      "                                                                 \n",
      " max_pooling2d_7 (MaxPooling  (None, 13, 13, 256)      0         \n",
      " 2D)                                                             \n",
      "                                                                 \n",
      " batch_normalization_5 (Batc  (None, 13, 13, 256)      1024      \n",
      " hNormalization)                                                 \n",
      "                                                                 \n",
      " conv2d_12 (Conv2D)          (None, 13, 13, 384)       885120    \n",
      "                                                                 \n",
      " max_pooling2d_8 (MaxPooling  (None, 6, 6, 384)        0         \n",
      " 2D)                                                             \n",
      "                                                                 \n",
      " conv2d_13 (Conv2D)          (None, 6, 6, 384)         1327488   \n",
      "                                                                 \n",
      " conv2d_14 (Conv2D)          (None, 6, 6, 256)         884992    \n",
      "                                                                 \n",
      " dropout_6 (Dropout)         (None, 6, 6, 256)         0         \n",
      "                                                                 \n",
      " flatten_2 (Flatten)         (None, 9216)              0         \n",
      "                                                                 \n",
      " dense_6 (Dense)             (None, 512)               4719104   \n",
      "                                                                 \n",
      " dropout_7 (Dropout)         (None, 512)               0         \n",
      "                                                                 \n",
      " dense_7 (Dense)             (None, 512)               262656    \n",
      "                                                                 \n",
      " dropout_8 (Dropout)         (None, 512)               0         \n",
      "                                                                 \n",
      " dense_8 (Dense)             (None, 135)               69255     \n",
      "                                                                 \n",
      "=================================================================\n",
      "Total params: 8,799,623\n",
      "Trainable params: 8,798,919\n",
      "Non-trainable params: 704\n",
      "_________________________________________________________________\n"
     ]
    }
   ],
   "source": [
    "model = AlexNet(135,227,3)"
   ]
  },
  {
   "cell_type": "code",
   "execution_count": 29,
   "id": "4802dee8",
   "metadata": {},
   "outputs": [],
   "source": [
    "#opt = tf.optimizers.Adagrad(learning_rate=0.00495, epsilon=None, decay=0.0)\n",
    "#model.compile(optimizer = opt , loss = tf.keras.losses.KLDivergence() , metrics=['accuracy'])\n",
    "model.compile(optimizer = 'adam' , loss = 'categorical_crossentropy' , metrics=['accuracy'])"
   ]
  },
  {
   "cell_type": "code",
   "execution_count": 30,
   "id": "e873d29e",
   "metadata": {},
   "outputs": [
    {
     "name": "stdout",
     "output_type": "stream",
     "text": [
      "Epoch 1/20\n",
      "159/159 [==============================] - 99s 622ms/step - loss: 4.6388 - accuracy: 0.0403\n",
      "Epoch 2/20\n",
      "159/159 [==============================] - 101s 634ms/step - loss: 4.1399 - accuracy: 0.0621\n",
      "Epoch 3/20\n",
      "159/159 [==============================] - 105s 662ms/step - loss: 3.9219 - accuracy: 0.0911\n",
      "Epoch 4/20\n",
      "159/159 [==============================] - 102s 644ms/step - loss: 3.8070 - accuracy: 0.1024\n",
      "Epoch 5/20\n",
      "159/159 [==============================] - 101s 637ms/step - loss: 3.6610 - accuracy: 0.1318\n",
      "Epoch 6/20\n",
      "159/159 [==============================] - 101s 638ms/step - loss: 3.5374 - accuracy: 0.1476\n",
      "Epoch 7/20\n",
      "159/159 [==============================] - 101s 637ms/step - loss: 3.3705 - accuracy: 0.1739\n",
      "Epoch 8/20\n",
      "159/159 [==============================] - 101s 635ms/step - loss: 3.1737 - accuracy: 0.1972\n",
      "Epoch 9/20\n",
      "159/159 [==============================] - 105s 661ms/step - loss: 2.9421 - accuracy: 0.2397\n",
      "Epoch 10/20\n",
      "159/159 [==============================] - 102s 642ms/step - loss: 2.7755 - accuracy: 0.2741\n",
      "Epoch 11/20\n",
      "159/159 [==============================] - 101s 635ms/step - loss: 2.4810 - accuracy: 0.3344\n",
      "Epoch 12/20\n",
      "159/159 [==============================] - 101s 636ms/step - loss: 2.1883 - accuracy: 0.4125\n",
      "Epoch 13/20\n",
      "159/159 [==============================] - 101s 636ms/step - loss: 1.9366 - accuracy: 0.4636\n",
      "Epoch 14/20\n",
      "159/159 [==============================] - 102s 639ms/step - loss: 1.5730 - accuracy: 0.5609\n",
      "Epoch 15/20\n",
      "159/159 [==============================] - 109s 684ms/step - loss: 1.3730 - accuracy: 0.6099\n",
      "Epoch 16/20\n",
      "159/159 [==============================] - 101s 635ms/step - loss: 1.1749 - accuracy: 0.6662\n",
      "Epoch 17/20\n",
      "159/159 [==============================] - 102s 639ms/step - loss: 0.9896 - accuracy: 0.7166\n",
      "Epoch 18/20\n",
      "159/159 [==============================] - 105s 660ms/step - loss: 0.7640 - accuracy: 0.7810\n",
      "Epoch 19/20\n",
      "159/159 [==============================] - 112s 701ms/step - loss: 0.6412 - accuracy: 0.8126\n",
      "Epoch 20/20\n",
      "159/159 [==============================] - 104s 655ms/step - loss: 0.6801 - accuracy: 0.8117\n"
     ]
    },
    {
     "data": {
      "text/plain": [
       "<keras.callbacks.History at 0x1f198e96eb0>"
      ]
     },
     "execution_count": 30,
     "metadata": {},
     "output_type": "execute_result"
    }
   ],
   "source": [
    "model.fit(train,epochs=20)"
   ]
  },
  {
   "cell_type": "code",
   "execution_count": 31,
   "id": "840824c5",
   "metadata": {},
   "outputs": [
    {
     "name": "stdout",
     "output_type": "stream",
     "text": [
      "38/38 [==============================] - 6s 165ms/step - loss: 7.1828 - accuracy: 0.1460\n",
      "Loss = 7.182817459106445\n",
      "Test Accuracy = 0.14595496654510498\n"
     ]
    }
   ],
   "source": [
    "preds=model.evaluate(test)\n",
    "print (\"Loss = \" + str(preds[0]))\n",
    "print (\"Test Accuracy = \" + str(preds[1]))"
   ]
  },
  {
   "cell_type": "code",
   "execution_count": null,
   "id": "da19378c",
   "metadata": {},
   "outputs": [],
   "source": [
    "'''\n",
    "opt = tf.optimizers.Adagrad(learning_rate=0.00495, epsilon=None, decay=0.0)\n",
    "model.compile(optimizer = opt , loss = tf.keras.losses.KLDivergence() , metrics=['accuracy'])\n",
    "Loss = 5.011361122131348\n",
    "Test Accuracy = 0.24520434439182281\n",
    "\n",
    "'''"
   ]
  }
 ],
 "metadata": {
  "kernelspec": {
   "display_name": "Python 3",
   "language": "python",
   "name": "python3"
  },
  "language_info": {
   "codemirror_mode": {
    "name": "ipython",
    "version": 3
   },
   "file_extension": ".py",
   "mimetype": "text/x-python",
   "name": "python",
   "nbconvert_exporter": "python",
   "pygments_lexer": "ipython3",
   "version": "3.9.12"
  }
 },
 "nbformat": 4,
 "nbformat_minor": 5
}
