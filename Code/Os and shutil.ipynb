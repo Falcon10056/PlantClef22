{
 "cells": [
  {
   "cell_type": "code",
   "execution_count": 2,
   "id": "105b5cfc",
   "metadata": {},
   "outputs": [],
   "source": [
    "import shutil\n",
    "import os"
   ]
  },
  {
   "cell_type": "code",
   "execution_count": 26,
   "id": "2d5ddbd4",
   "metadata": {},
   "outputs": [
    {
     "name": "stdout",
     "output_type": "stream",
     "text": [
      "10079361\n",
      "10083491\n",
      "2650197\n",
      "2650216\n",
      "3001166\n",
      "3001862\n",
      "4001208\n",
      "4001550\n",
      "5274947\n",
      "5274973\n",
      "6026455\n",
      "6026539\n",
      "7124454\n",
      "7127341\n",
      "8004998\n",
      "8007516\n",
      "9036864\n",
      "9052066\n"
     ]
    }
   ],
   "source": [
    "path = r\"C:\\Users\\GUITA\\Desktop\\Stuff\\Projects\\Plant CLEF\\alexnet\\dataset\\seg_pred\\seg_pred\"\n",
    "dest = r\"C:\\Users\\GUITA\\Desktop\\Stuff\\Projects\\Plant CLEF\\alexnet\\dataset\\seg_pred\\files\"\n",
    "for i in os.listdir(dest):\n",
    "    #for j in os.listdir(i):\n",
    "        #shutil.move(dest+\"\\\\\"+j,path)\n",
    "        print(i)"
   ]
  },
  {
   "cell_type": "code",
   "execution_count": 22,
   "id": "4b233ea0",
   "metadata": {},
   "outputs": [
    {
     "data": {
      "text/plain": [
       "['17e2c82ed8db1889c23c3879bb72f48f70474fd6.jpg',\n",
       " '2e868c1e799c1e416a90d73eb6dc7bd9d78bbd00.jpg',\n",
       " '75ea948f056b44463da9c32ef062c3d8cea97122.jpg',\n",
       " '7bd26f1c1c79e7aa6402006b5993e514d89d8ad0.jpg',\n",
       " '8feecff8c0bdd842054ed68470ab6805260d6c1d.jpg',\n",
       " '90af7e51392687fa4a7c6e8e44fb86e6ced97876.jpg',\n",
       " 'dd165775958d4010856f8add508422d1cf9fadf5.jpg',\n",
       " 'f34589a9f6ec4d0e9c34da9f1cf8ca0521206b88.jpg']"
      ]
     },
     "execution_count": 22,
     "metadata": {},
     "output_type": "execute_result"
    }
   ],
   "source": [
    "os.listdir(r\"C:\\Users\\GUITA\\Desktop\\Stuff\\Projects\\Plant CLEF\\alexnet\\dataset\\seg_pred\\files\\2650197\")"
   ]
  }
 ],
 "metadata": {
  "kernelspec": {
   "display_name": "Python 3",
   "language": "python",
   "name": "python3"
  },
  "language_info": {
   "codemirror_mode": {
    "name": "ipython",
    "version": 3
   },
   "file_extension": ".py",
   "mimetype": "text/x-python",
   "name": "python",
   "nbconvert_exporter": "python",
   "pygments_lexer": "ipython3",
   "version": "3.9.12"
  }
 },
 "nbformat": 4,
 "nbformat_minor": 5
}
