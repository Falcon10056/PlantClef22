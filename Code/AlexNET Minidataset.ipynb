{
 "cells": [
  {
   "cell_type": "code",
   "execution_count": 4,
   "id": "b5f68999",
   "metadata": {},
   "outputs": [],
   "source": [
    "import numpy as np\n",
    "import tensorflow as tf\n",
    "from keras import layers\n",
    "from keras.layers import Input, Dense, Activation,BatchNormalization, Flatten, Conv2D, MaxPooling2D, Dropout\n",
    "from keras.models import Model\n",
    "from keras.preprocessing import image\n",
    "from keras.preprocessing.image import ImageDataGenerator\n",
    "import keras.backend as K\n",
    "K.set_image_data_format('channels_last')\n",
    "import matplotlib.pyplot as plt\n",
    "from matplotlib.pyplot import imshow\n",
    "import os"
   ]
  },
  {
   "cell_type": "code",
   "execution_count": 3,
   "id": "4893f04e",
   "metadata": {},
   "outputs": [
    {
     "name": "stdout",
     "output_type": "stream",
     "text": [
      "Found 5060 images belonging to 135 classes.\n",
      "Found 1199 images belonging to 135 classes.\n"
     ]
    }
   ],
   "source": [
    "path = r\"C:\\Users\\GUITA\\Desktop\\Stuff\\Projects\\Plant CLEF\\alexnet\\dataset\\seg_train\\seg_train\"\n",
    "datagen = ImageDataGenerator(validation_split=0.2, rescale=1. / 255)\n",
    "train = datagen.flow_from_directory(path, subset='training', target_size=(227,227), class_mode='categorical')\n",
    "test = datagen.flow_from_directory(path, subset='validation', target_size=(227,227), class_mode='categorical')"
   ]
  },
  {
   "cell_type": "code",
   "execution_count": 34,
   "id": "3c7d6511",
   "metadata": {},
   "outputs": [
    {
     "name": "stdout",
     "output_type": "stream",
     "text": [
      "Batch Size for Input Image :  (32, 227, 227, 3)\n",
      "Batch Size for Output Image :  (32, 135)\n",
      "Image Size of first image :  (227, 227, 3)\n",
      "Output of first image :  (135,)\n"
     ]
    }
   ],
   "source": [
    "print(\"Batch Size for Input Image : \",train[0][0].shape)\n",
    "print(\"Batch Size for Output Image : \",train[0][1].shape)\n",
    "print(\"Image Size of first image : \",train[0][0][0].shape)\n",
    "print(\"Output of first image : \",train[0][1][0].shape)"
   ]
  },
  {
   "cell_type": "code",
   "execution_count": 12,
   "id": "f80f844f",
   "metadata": {},
   "outputs": [],
   "source": [
    "X_input = Input(train[0][0].shape[1:])\n",
    "    \n",
    "X = Conv2D(96,(11,11),strides = 4,name=\"conv0\")(X_input)\n",
    "#X = Dropout(0.2, input_shape=(96,))(X)\n",
    "X = BatchNormalization(axis = 3 , name = \"bn0\")(X)\n",
    "X = Activation('relu')(X)\n",
    "    \n",
    "X = MaxPooling2D((3,3),strides = 2,name = 'max0')(X)\n",
    "    \n",
    "X = Conv2D(256,(5,5),padding = 'same' , name = 'conv1')(X)\n",
    "#X = Dropout(0.2, input_shape=(256,))(X)\n",
    "X = BatchNormalization(axis = 3 ,name='bn1')(X)\n",
    "X = Activation('relu')(X)\n",
    "    \n",
    "X = MaxPooling2D((3,3),strides = 2,name = 'max1')(X)\n",
    "    \n",
    "X = Conv2D(384, (3,3) , padding = 'same' , name='conv2')(X)\n",
    "#X = Dropout(0.2, input_shape=(384,))(X)\n",
    "X = BatchNormalization(axis = 3, name = 'bn2')(X)\n",
    "X = Activation('relu')(X)\n",
    "    \n",
    "X = Conv2D(384, (3,3) , padding = 'same' , name='conv3')(X)\n",
    "#X = Dropout(0.2, input_shape=(384,))(X)\n",
    "X = BatchNormalization(axis = 3, name = 'bn3')(X)\n",
    "X = Activation('relu')(X)\n",
    "    \n",
    "X = Conv2D(256, (3,3) , padding = 'same' , name='conv4')(X)\n",
    "#X = Dropout(0.5, input_shape=(256,))(X)\n",
    "X = BatchNormalization(axis = 3, name = 'bn4')(X)\n",
    "X = Activation('relu')(X)\n",
    "    \n",
    "X = MaxPooling2D((3,3),strides = 2,name = 'max2')(X)\n",
    "    \n",
    "X = Flatten()(X)\n",
    "    \n",
    "X = Dense(4096, activation = 'relu', name = \"fc0\")(X)\n",
    "\n",
    "X = Dense(4096, activation = 'relu', name = 'fc1')(X) \n",
    "\n",
    "X = Dense(135,activation='softmax',name = 'fc2')(X)\n",
    "\n",
    "model = Model(inputs = X_input, outputs = X, name='AlexNet')\n"
   ]
  },
  {
   "cell_type": "code",
   "execution_count": 9,
   "id": "eb7ea25c",
   "metadata": {
    "scrolled": true
   },
   "outputs": [
    {
     "name": "stdout",
     "output_type": "stream",
     "text": [
      "Model: \"AlexNet\"\n",
      "_________________________________________________________________\n",
      " Layer (type)                Output Shape              Param #   \n",
      "=================================================================\n",
      " input_2 (InputLayer)        [(None, 227, 227, 3)]     0         \n",
      "                                                                 \n",
      " conv0 (Conv2D)              (None, 55, 55, 96)        34944     \n",
      "                                                                 \n",
      " bn0 (BatchNormalization)    (None, 55, 55, 96)        384       \n",
      "                                                                 \n",
      " activation_5 (Activation)   (None, 55, 55, 96)        0         \n",
      "                                                                 \n",
      " max0 (MaxPooling2D)         (None, 27, 27, 96)        0         \n",
      "                                                                 \n",
      " conv1 (Conv2D)              (None, 27, 27, 256)       614656    \n",
      "                                                                 \n",
      " bn1 (BatchNormalization)    (None, 27, 27, 256)       1024      \n",
      "                                                                 \n",
      " activation_6 (Activation)   (None, 27, 27, 256)       0         \n",
      "                                                                 \n",
      " max1 (MaxPooling2D)         (None, 13, 13, 256)       0         \n",
      "                                                                 \n",
      " conv2 (Conv2D)              (None, 13, 13, 384)       885120    \n",
      "                                                                 \n",
      " bn2 (BatchNormalization)    (None, 13, 13, 384)       1536      \n",
      "                                                                 \n",
      " activation_7 (Activation)   (None, 13, 13, 384)       0         \n",
      "                                                                 \n",
      " conv3 (Conv2D)              (None, 13, 13, 384)       1327488   \n",
      "                                                                 \n",
      " bn3 (BatchNormalization)    (None, 13, 13, 384)       1536      \n",
      "                                                                 \n",
      " activation_8 (Activation)   (None, 13, 13, 384)       0         \n",
      "                                                                 \n",
      " conv4 (Conv2D)              (None, 13, 13, 256)       884992    \n",
      "                                                                 \n",
      " dropout_1 (Dropout)         (None, 13, 13, 256)       0         \n",
      "                                                                 \n",
      " bn4 (BatchNormalization)    (None, 13, 13, 256)       1024      \n",
      "                                                                 \n",
      " activation_9 (Activation)   (None, 13, 13, 256)       0         \n",
      "                                                                 \n",
      " max2 (MaxPooling2D)         (None, 6, 6, 256)         0         \n",
      "                                                                 \n",
      " flatten_1 (Flatten)         (None, 9216)              0         \n",
      "                                                                 \n",
      " fc0 (Dense)                 (None, 4096)              37752832  \n",
      "                                                                 \n",
      " fc1 (Dense)                 (None, 4096)              16781312  \n",
      "                                                                 \n",
      " fc2 (Dense)                 (None, 135)               553095    \n",
      "                                                                 \n",
      "=================================================================\n",
      "Total params: 58,839,943\n",
      "Trainable params: 58,837,191\n",
      "Non-trainable params: 2,752\n",
      "_________________________________________________________________\n"
     ]
    }
   ],
   "source": [
    "model.summary()"
   ]
  },
  {
   "cell_type": "code",
   "execution_count": 13,
   "id": "0f80864a",
   "metadata": {},
   "outputs": [],
   "source": [
    "opt = tf.optimizers.Adagrad(learning_rate=0.00495, epsilon=None, decay=0.0)\n",
    "model.compile(optimizer = opt , loss = tf.keras.losses.KLDivergence() , metrics=['accuracy'])"
   ]
  },
  {
   "cell_type": "code",
   "execution_count": 8,
   "id": "1b55c075",
   "metadata": {},
   "outputs": [],
   "source": [
    "from keras.optimizers import gradient_descent_v2"
   ]
  },
  {
   "cell_type": "code",
   "execution_count": 7,
   "id": "3bd97161",
   "metadata": {
    "scrolled": true
   },
   "outputs": [
    {
     "ename": "NameError",
     "evalue": "name 'gradient_descent_v2' is not defined",
     "output_type": "error",
     "traceback": [
      "\u001b[1;31m---------------------------------------------------------------------------\u001b[0m",
      "\u001b[1;31mNameError\u001b[0m                                 Traceback (most recent call last)",
      "\u001b[1;32m<ipython-input-7-28dce4266401>\u001b[0m in \u001b[0;36m<module>\u001b[1;34m\u001b[0m\n\u001b[1;32m----> 1\u001b[1;33m \u001b[0mopt\u001b[0m \u001b[1;33m=\u001b[0m \u001b[0mgradient_descent_v2\u001b[0m\u001b[1;33m.\u001b[0m\u001b[0mSGD\u001b[0m\u001b[1;33m(\u001b[0m\u001b[0mlearning_rate\u001b[0m\u001b[1;33m=\u001b[0m\u001b[1;36m2e-2\u001b[0m\u001b[1;33m,\u001b[0m \u001b[0mmomentum\u001b[0m\u001b[1;33m=\u001b[0m\u001b[1;36m0.9\u001b[0m\u001b[1;33m,\u001b[0m \u001b[0mdecay\u001b[0m\u001b[1;33m=\u001b[0m\u001b[1;36m1e-2\u001b[0m\u001b[1;33m/\u001b[0m\u001b[1;36m20\u001b[0m\u001b[1;33m)\u001b[0m\u001b[1;33m\u001b[0m\u001b[1;33m\u001b[0m\u001b[0m\n\u001b[0m\u001b[0;32m      2\u001b[0m \u001b[0mmodel\u001b[0m\u001b[1;33m.\u001b[0m\u001b[0mcompile\u001b[0m\u001b[1;33m(\u001b[0m\u001b[0moptimizer\u001b[0m \u001b[1;33m=\u001b[0m \u001b[0mopt\u001b[0m \u001b[1;33m,\u001b[0m \u001b[0mloss\u001b[0m \u001b[1;33m=\u001b[0m \u001b[1;34m'categorical_crossentropy'\u001b[0m \u001b[1;33m,\u001b[0m \u001b[0mmetrics\u001b[0m\u001b[1;33m=\u001b[0m\u001b[1;33m[\u001b[0m\u001b[1;34m'accuracy'\u001b[0m\u001b[1;33m]\u001b[0m\u001b[1;33m)\u001b[0m\u001b[1;33m\u001b[0m\u001b[1;33m\u001b[0m\u001b[0m\n",
      "\u001b[1;31mNameError\u001b[0m: name 'gradient_descent_v2' is not defined"
     ]
    }
   ],
   "source": [
    "opt = gradient_descent_v2.SGD(learning_rate=2e-2, momentum=0.9, decay=1e-2/20)\n",
    "model.compile(optimizer = opt , loss = 'categorical_crossentropy' , metrics=['accuracy'])"
   ]
  },
  {
   "cell_type": "code",
   "execution_count": 14,
   "id": "60edeb48",
   "metadata": {
    "scrolled": false
   },
   "outputs": [
    {
     "name": "stdout",
     "output_type": "stream",
     "text": [
      "Epoch 1/20\n",
      "159/159 [==============================] - 176s 1s/step - loss: 4.5821 - accuracy: 0.0543\n",
      "Epoch 2/20\n",
      "159/159 [==============================] - 175s 1s/step - loss: 3.7861 - accuracy: 0.1217\n",
      "Epoch 3/20\n",
      "159/159 [==============================] - 180s 1s/step - loss: 3.4003 - accuracy: 0.1889\n",
      "Epoch 4/20\n",
      "159/159 [==============================] - 174s 1s/step - loss: 3.0553 - accuracy: 0.2407\n",
      "Epoch 5/20\n",
      "159/159 [==============================] - 195s 1s/step - loss: 2.6516 - accuracy: 0.3221\n",
      "Epoch 6/20\n",
      "159/159 [==============================] - 195s 1s/step - loss: 2.2986 - accuracy: 0.4053\n",
      "Epoch 7/20\n",
      "159/159 [==============================] - 198s 1s/step - loss: 1.8544 - accuracy: 0.5115\n",
      "Epoch 8/20\n",
      "159/159 [==============================] - 185s 1s/step - loss: 1.5071 - accuracy: 0.6219\n",
      "Epoch 9/20\n",
      "159/159 [==============================] - 192s 1s/step - loss: 1.0915 - accuracy: 0.7225\n",
      "Epoch 10/20\n",
      "159/159 [==============================] - 181s 1s/step - loss: 0.8027 - accuracy: 0.8245\n",
      "Epoch 11/20\n",
      "159/159 [==============================] - 177s 1s/step - loss: 0.4114 - accuracy: 0.9196\n",
      "Epoch 12/20\n",
      "159/159 [==============================] - 184s 1s/step - loss: 0.4092 - accuracy: 0.9421\n",
      "Epoch 13/20\n",
      "159/159 [==============================] - 188s 1s/step - loss: 0.3053 - accuracy: 0.9591\n",
      "Epoch 14/20\n",
      "159/159 [==============================] - 178s 1s/step - loss: 0.3783 - accuracy: 0.9496\n",
      "Epoch 15/20\n",
      "159/159 [==============================] - 176s 1s/step - loss: 0.0492 - accuracy: 0.9968\n",
      "Epoch 16/20\n",
      "159/159 [==============================] - 179s 1s/step - loss: 0.0274 - accuracy: 0.9986\n",
      "Epoch 17/20\n",
      "159/159 [==============================] - 183s 1s/step - loss: 0.2788 - accuracy: 0.9599\n",
      "Epoch 18/20\n",
      "159/159 [==============================] - 190s 1s/step - loss: 0.0887 - accuracy: 0.9929\n",
      "Epoch 19/20\n",
      "159/159 [==============================] - 194s 1s/step - loss: 0.0238 - accuracy: 0.9990\n",
      "Epoch 20/20\n",
      "159/159 [==============================] - 181s 1s/step - loss: 0.1355 - accuracy: 0.9858\n"
     ]
    },
    {
     "data": {
      "text/plain": [
       "<keras.callbacks.History at 0x18675e08f10>"
      ]
     },
     "execution_count": 14,
     "metadata": {},
     "output_type": "execute_result"
    }
   ],
   "source": [
    "model.fit(train,epochs=20)"
   ]
  },
  {
   "cell_type": "code",
   "execution_count": 15,
   "id": "647a4bf0",
   "metadata": {},
   "outputs": [
    {
     "name": "stdout",
     "output_type": "stream",
     "text": [
      "38/38 [==============================] - 10s 246ms/step - loss: 3.8766 - accuracy: 0.2819\n",
      "Loss = 3.876593828201294\n",
      "Test Accuracy = 0.28190159797668457\n"
     ]
    }
   ],
   "source": [
    "preds=model.evaluate(test)\n",
    "print (\"Loss = \" + str(preds[0]))\n",
    "print (\"Test Accuracy = \" + str(preds[1]))"
   ]
  }
 ],
 "metadata": {
  "kernelspec": {
   "display_name": "Python 3",
   "language": "python",
   "name": "python3"
  },
  "language_info": {
   "codemirror_mode": {
    "name": "ipython",
    "version": 3
   },
   "file_extension": ".py",
   "mimetype": "text/x-python",
   "name": "python",
   "nbconvert_exporter": "python",
   "pygments_lexer": "ipython3",
   "version": "3.9.12"
  }
 },
 "nbformat": 4,
 "nbformat_minor": 5
}
